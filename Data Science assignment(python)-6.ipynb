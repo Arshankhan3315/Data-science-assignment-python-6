{
 "cells": [
  {
   "cell_type": "raw",
   "id": "5046712d-1dd6-43aa-b9ec-2924a1bfefc7",
   "metadata": {},
   "source": [
    "Python assignment-5"
   ]
  },
  {
   "cell_type": "markdown",
   "id": "c90d47bc-10d9-4a6d-a36b-ce66b1a26599",
   "metadata": {},
   "source": [
    "Question-1-Explain Class and Object with respect to Object-Oriented Programming. Give a suitable example."
   ]
  },
  {
   "cell_type": "markdown",
   "id": "f9d97425-951a-44ac-9c25-644ae8c648b5",
   "metadata": {},
   "source": [
    "Answer-1-In Object-Oriented Programming (OOP), classes and objects are fundamental concepts that facilitate the organization and structure of code by promoting modularity, reusability, and encapsulation. They help model real-world entities and their interactions within a program."
   ]
  },
  {
   "cell_type": "markdown",
   "id": "888f37bf-704c-468a-80c4-2aeec7a71903",
   "metadata": {},
   "source": [
    "Class:\n",
    "A class is a blueprint or a template for creating objects. It defines the attributes (data members) and behaviors (methods) that the objects created from the class will have. Think of a class as a general category that defines the properties and actions that a particular type of object can have"
   ]
  },
  {
   "cell_type": "markdown",
   "id": "f87c0ef4-cce9-4388-a04b-a2812ea1c8df",
   "metadata": {},
   "source": [
    "Object:\n",
    "An object is an instance of a class. It is a concrete, tangible entity that possesses the attributes and behaviors defined in its class"
   ]
  },
  {
   "cell_type": "code",
   "execution_count": 1,
   "id": "5e59b1ba-47ad-45e8-9122-7fb97f780ee7",
   "metadata": {},
   "outputs": [],
   "source": [
    "class Car:\n",
    "    def __init__(self, make, model, year):\n",
    "        self.make = make\n",
    "        self.model = model\n",
    "        self.year = year\n",
    "        self.is_engine_on = False\n",
    "        self.speed = 0\n",
    "\n",
    "    def start_engine(self):\n",
    "        self.is_engine_on = True\n",
    "        print(\"Engine started\")\n",
    "\n",
    "    def accelerate(self, speed):\n",
    "        if self.is_engine_on:\n",
    "            self.speed += speed\n",
    "            print(f\"Accelerating to {self.speed} km/h\")\n",
    "        else:\n",
    "            print(\"Engine is off. Cannot accelerate.\")\n",
    "\n",
    "    def brake(self):\n",
    "        if self.speed > 0:\n",
    "            self.speed = 0\n",
    "            print(\"Car stopped\")\n",
    "        else:\n",
    "            print(\"Car is already stationary\")"
   ]
  },
  {
   "cell_type": "code",
   "execution_count": 2,
   "id": "f8b6365f-ad8e-47cc-93d5-d3cbec40c72f",
   "metadata": {},
   "outputs": [],
   "source": [
    "car1 = Car(\"Toyota\", \"fortuner\", 2023)\n",
    "car2 = Car(\"Tesla\", \"Model S\", 2023)"
   ]
  },
  {
   "cell_type": "code",
   "execution_count": 3,
   "id": "7b2cfbe4-6fcd-4225-831e-860dd2b2e529",
   "metadata": {},
   "outputs": [
    {
     "name": "stdout",
     "output_type": "stream",
     "text": [
      "Engine started\n"
     ]
    }
   ],
   "source": [
    "car1.start_engine()"
   ]
  },
  {
   "cell_type": "code",
   "execution_count": 4,
   "id": "43591da3-439f-4440-8703-98d7717b50c6",
   "metadata": {},
   "outputs": [
    {
     "name": "stdout",
     "output_type": "stream",
     "text": [
      "Accelerating to 50 km/h\n"
     ]
    }
   ],
   "source": [
    "car1.accelerate(50)"
   ]
  },
  {
   "cell_type": "code",
   "execution_count": 5,
   "id": "97c31e2c-df94-4cd2-af12-62f2f1d37ed3",
   "metadata": {},
   "outputs": [
    {
     "name": "stdout",
     "output_type": "stream",
     "text": [
      "Car stopped\n"
     ]
    }
   ],
   "source": [
    "car1.brake()"
   ]
  },
  {
   "cell_type": "code",
   "execution_count": 6,
   "id": "7630b05c-0af3-4cbc-91c7-b9c9601bd864",
   "metadata": {},
   "outputs": [
    {
     "name": "stdout",
     "output_type": "stream",
     "text": [
      "Engine started\n"
     ]
    }
   ],
   "source": [
    "car2.start_engine()"
   ]
  },
  {
   "cell_type": "code",
   "execution_count": 7,
   "id": "49380211-1aa6-467f-9100-9089d48ce8af",
   "metadata": {},
   "outputs": [
    {
     "name": "stdout",
     "output_type": "stream",
     "text": [
      "Accelerating to 70 km/h\n"
     ]
    }
   ],
   "source": [
    "car2.accelerate(70)"
   ]
  },
  {
   "cell_type": "markdown",
   "id": "9da2b808-5bdd-44f0-9ab5-5f5e46190de4",
   "metadata": {},
   "source": [
    "Question-2- Name the four pillars of OOPs."
   ]
  },
  {
   "cell_type": "markdown",
   "id": "14e4e2ba-159b-43df-a212-1ffcec9233fa",
   "metadata": {},
   "source": [
    "Answer-2-\n",
    "(1)-Encapsulation: Encapsulation refers to the bundling of data (attributes) and methods (functions) that operate on that data into a single unit, known as a class. It involves restricting direct access to some of an object's components and providing controlled access through methods"
   ]
  },
  {
   "cell_type": "markdown",
   "id": "3d79a618-d8cc-4a4b-b35d-8c85a64f76e3",
   "metadata": {},
   "source": [
    "(2)-Abstraction: Abstraction involves simplifying complex reality by modeling classes based on their essential characteristics. It allows you to create a representation of an object that includes only the relevant attributes and behaviors, abstracting away unnecessary details."
   ]
  },
  {
   "cell_type": "markdown",
   "id": "b64c7d73-f766-4892-8b71-7699f4ce615c",
   "metadata": {},
   "source": [
    "(3)-Inheritance: Inheritance enables the creation of a new class (subclass or derived class) that inherits attributes and behaviors from an existing class (superclass or base class). This promotes code reuse and allows you to model relationships between classes, capturing the \"is-a\" relationship"
   ]
  },
  {
   "cell_type": "markdown",
   "id": "0df57021-aa40-4ced-84e1-1455e45c8a3d",
   "metadata": {},
   "source": [
    "(4)-Polymorphism: Polymorphism allows objects of different classes to be treated as objects of a common superclass. It involves the ability to present the same interface for different data types or classes. Polymorphism is achieved through method overriding and method overloading"
   ]
  },
  {
   "cell_type": "markdown",
   "id": "639c3366-25f0-457d-adf9-c5745dba5c60",
   "metadata": {},
   "source": [
    "Question-(3)- Explain why the __init__() function is used. Give a suitable example."
   ]
  },
  {
   "cell_type": "markdown",
   "id": "ee19af97-37d8-411f-b155-0c52f845d924",
   "metadata": {},
   "source": [
    "Answer-3-The __init__() function is a special method (also known as a constructor) in Python that is automatically called when an instance of a class is created. It initializes the attributes of the object and performs any necessary setup operations. The primary purpose of the __init__() function is to ensure that the object is properly initialized and in a valid state when it's created."
   ]
  },
  {
   "cell_type": "code",
   "execution_count": 8,
   "id": "25be3f04-46ba-4a5a-9e61-5a2d7dfd6165",
   "metadata": {},
   "outputs": [],
   "source": [
    "class Person:\n",
    "    def __init__(self, name, age):\n",
    "        self.name = name\n",
    "        self.age = age\n",
    "\n",
    "    def introduce(self):\n",
    "        print(f\"Hi, my name is {self.name}, and I am {self.age} years old.\")"
   ]
  },
  {
   "cell_type": "code",
   "execution_count": 13,
   "id": "6a290705-b466-4c39-9ed8-7ce165eea129",
   "metadata": {},
   "outputs": [],
   "source": [
    "person1 = Person(\"Ayan\", 25)"
   ]
  },
  {
   "cell_type": "code",
   "execution_count": 14,
   "id": "2a073b3d-2231-48d9-8e20-3fd86b7ab62f",
   "metadata": {},
   "outputs": [],
   "source": [
    "person2 = Person(\"Arshan\", 30)"
   ]
  },
  {
   "cell_type": "code",
   "execution_count": 15,
   "id": "f29188a4-99e0-4819-9ac7-459d42124fa3",
   "metadata": {},
   "outputs": [
    {
     "name": "stdout",
     "output_type": "stream",
     "text": [
      "Hi, my name is Ayan, and I am 25 years old.\n"
     ]
    }
   ],
   "source": [
    "person1.introduce()"
   ]
  },
  {
   "cell_type": "code",
   "execution_count": 16,
   "id": "4b13cedc-6d5a-49c7-8b6c-2655e94a2ca5",
   "metadata": {},
   "outputs": [
    {
     "name": "stdout",
     "output_type": "stream",
     "text": [
      "Hi, my name is Arshan, and I am 30 years old.\n"
     ]
    }
   ],
   "source": [
    "person2.introduce()"
   ]
  },
  {
   "cell_type": "markdown",
   "id": "64c4a342-5a65-462f-866b-86dea43cbf87",
   "metadata": {},
   "source": [
    "Question-4-Why self is used in OOPs?"
   ]
  },
  {
   "cell_type": "markdown",
   "id": "1b3bf924-c782-4cd4-9ea7-a5a8cd38fcaf",
   "metadata": {},
   "source": [
    "Answer-4-In Object-Oriented Programming (OOP), self is a convention used to refer to the instance of a class within the class methods. It's a way to access and work with the attributes and methods of the instance itself. The use of self is crucial for maintaining the encapsulation and proper functioning of object-oriented code."
   ]
  },
  {
   "cell_type": "code",
   "execution_count": 22,
   "id": "647095e4-bd49-4541-b866-568b5f122d5c",
   "metadata": {},
   "outputs": [],
   "source": [
    "class pwskills:\n",
    "    def __init__(self, course):\n",
    "        self.course = course\n",
    "\n",
    "    def name(self):\n",
    "        return  self.course"
   ]
  },
  {
   "cell_type": "code",
   "execution_count": 23,
   "id": "4755e8b7-6e8b-4d38-bbed-035ed3af3bf4",
   "metadata": {},
   "outputs": [],
   "source": [
    "pwskills1 = pwskills(\"data science\")"
   ]
  },
  {
   "cell_type": "code",
   "execution_count": 24,
   "id": "bf84bd3e-7c49-44ab-877d-16fceaa65931",
   "metadata": {},
   "outputs": [
    {
     "name": "stdout",
     "output_type": "stream",
     "text": [
      "data sciecce: data science\n"
     ]
    }
   ],
   "source": [
    "# Calling the area() method\n",
    "print(\"data sciecce:\", pwskills1.name())"
   ]
  },
  {
   "cell_type": "markdown",
   "id": "dbc795fd-58ef-43e5-9001-048b95e32829",
   "metadata": {},
   "source": [
    "Question-5- What is inheritance? Give an example for each type of inheritance."
   ]
  },
  {
   "cell_type": "markdown",
   "id": "49192e1f-3070-44bc-8ce6-d0555a633963",
   "metadata": {},
   "source": [
    "Answer-5-Inheritance is a fundamental concept in Object-Oriented Programming (OOP) that allows a new class (subclass or derived class) to inherit properties (attributes and methods) from an existing class (superclass or base class). Inheritance promotes code reuse and allows you to model relationships between classes, capturing the \"is-a\" relationship. "
   ]
  },
  {
   "cell_type": "code",
   "execution_count": 25,
   "id": "9274adb9-8df8-467b-a2e6-62d502e41f07",
   "metadata": {},
   "outputs": [],
   "source": [
    "#singal inheritance"
   ]
  },
  {
   "cell_type": "code",
   "execution_count": 26,
   "id": "aefa2986-2772-4ad1-9c54-cb1a27ded483",
   "metadata": {},
   "outputs": [],
   "source": [
    "class Animal:\n",
    "    def speak(self):\n",
    "        pass\n",
    "\n",
    "class Dog(Animal):\n",
    "    def speak(self):\n",
    "        return \"Woof!\"\n",
    "\n",
    "class Cat(Animal):\n",
    "    def speak(self):\n",
    "        return \"Meow!\""
   ]
  },
  {
   "cell_type": "code",
   "execution_count": 28,
   "id": "996f0215-4029-46ee-8529-d486e8f20095",
   "metadata": {},
   "outputs": [
    {
     "data": {
      "text/plain": [
       "[__main__.Animal, object]"
      ]
     },
     "execution_count": 28,
     "metadata": {},
     "output_type": "execute_result"
    }
   ],
   "source": [
    "Animal.mro()"
   ]
  },
  {
   "cell_type": "code",
   "execution_count": 31,
   "id": "e28e2f78-5e92-42a7-9c9f-f39fb93c02f1",
   "metadata": {},
   "outputs": [
    {
     "data": {
      "text/plain": [
       "<function __main__.Animal.speak(self)>"
      ]
     },
     "execution_count": 31,
     "metadata": {},
     "output_type": "execute_result"
    }
   ],
   "source": [
    "Animal.speak"
   ]
  },
  {
   "cell_type": "code",
   "execution_count": 32,
   "id": "cf8ae688-b83b-44d5-8932-c9ab3c53dc98",
   "metadata": {},
   "outputs": [],
   "source": [
    "#multiple inhertence"
   ]
  },
  {
   "cell_type": "code",
   "execution_count": 34,
   "id": "b9791c97-207f-4c49-af9f-c851843245d5",
   "metadata": {},
   "outputs": [],
   "source": [
    "class Vehicle:\n",
    "    def start(self):\n",
    "        pass\n",
    "\n",
    "class Car(Vehicle):\n",
    "    def drive(self):\n",
    "        pass\n",
    "\n",
    "class ElectricCar(Car):\n",
    "    def charge(self):\n",
    "        pass"
   ]
  },
  {
   "cell_type": "code",
   "execution_count": 35,
   "id": "3452096a-471c-496c-ac8a-ae72712c085d",
   "metadata": {},
   "outputs": [],
   "source": [
    "vehicle = Vehicle()\n",
    "car = Car()\n",
    "electric_car = ElectricCar()"
   ]
  },
  {
   "cell_type": "code",
   "execution_count": 36,
   "id": "5815e930-2e8e-4a5c-a6a1-3599444a4f21",
   "metadata": {},
   "outputs": [],
   "source": [
    "vehicle.start()"
   ]
  },
  {
   "cell_type": "code",
   "execution_count": 37,
   "id": "7ca66361-cf09-48d8-b54e-e5c5d1215796",
   "metadata": {},
   "outputs": [],
   "source": [
    "car.start()"
   ]
  },
  {
   "cell_type": "code",
   "execution_count": 42,
   "id": "50732862-ae02-4622-acb5-b7547e2e6f98",
   "metadata": {},
   "outputs": [],
   "source": [
    "car.drive()"
   ]
  },
  {
   "cell_type": "code",
   "execution_count": 43,
   "id": "e02102d9-4dba-4f48-90b6-c87812208529",
   "metadata": {},
   "outputs": [],
   "source": [
    "electric_car.start()   \n",
    "electric_car.drive()    \n",
    "electric_car.charge()   "
   ]
  },
  {
   "cell_type": "code",
   "execution_count": 45,
   "id": "89e391e9-23f2-48f5-a38e-f44a48123bbd",
   "metadata": {},
   "outputs": [
    {
     "ename": "TypeError",
     "evalue": "'ElectricCar' object is not callable",
     "output_type": "error",
     "traceback": [
      "\u001b[0;31m---------------------------------------------------------------------------\u001b[0m",
      "\u001b[0;31mTypeError\u001b[0m                                 Traceback (most recent call last)",
      "Cell \u001b[0;32mIn[45], line 1\u001b[0m\n\u001b[0;32m----> 1\u001b[0m \u001b[43melectric_car\u001b[49m\u001b[43m(\u001b[49m\u001b[38;5;124;43m\"\u001b[39;49m\u001b[38;5;124;43mcar\u001b[39;49m\u001b[38;5;124;43m\"\u001b[39;49m\u001b[43m)\u001b[49m\n",
      "\u001b[0;31mTypeError\u001b[0m: 'ElectricCar' object is not callable"
     ]
    }
   ],
   "source": [
    "electric_car(\"car\")"
   ]
  },
  {
   "cell_type": "code",
   "execution_count": null,
   "id": "4b517cf5-6e35-4c85-abec-9a92706bfed3",
   "metadata": {},
   "outputs": [],
   "source": []
  }
 ],
 "metadata": {
  "kernelspec": {
   "display_name": "Python 3 (ipykernel)",
   "language": "python",
   "name": "python3"
  },
  "language_info": {
   "codemirror_mode": {
    "name": "ipython",
    "version": 3
   },
   "file_extension": ".py",
   "mimetype": "text/x-python",
   "name": "python",
   "nbconvert_exporter": "python",
   "pygments_lexer": "ipython3",
   "version": "3.10.8"
  }
 },
 "nbformat": 4,
 "nbformat_minor": 5
}
